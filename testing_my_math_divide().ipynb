{
  "nbformat": 4,
  "nbformat_minor": 0,
  "metadata": {
    "colab": {
      "name": "testing_my_math.divide().ipynb",
      "provenance": [],
      "toc_visible": true,
      "include_colab_link": true
    },
    "kernelspec": {
      "name": "python3",
      "display_name": "Python 3"
    },
    "language_info": {
      "name": "python"
    }
  },
  "cells": [
    {
      "cell_type": "markdown",
      "metadata": {
        "id": "view-in-github",
        "colab_type": "text"
      },
      "source": [
        "<a href=\"https://colab.research.google.com/github/VibhaGokool/Business-Programming---Vibha-Gokool/blob/main/testing_my_math_divide().ipynb\" target=\"_parent\"><img src=\"https://colab.research.google.com/assets/colab-badge.svg\" alt=\"Open In Colab\"/></a>"
      ]
    },
    {
      "cell_type": "markdown",
      "source": [
        "## Testing  my_math.divide()\n",
        "\n",
        "What is your preferred testing strategy? Do you like using the assert statement or prefer doctest?  \n",
        "\n",
        "Using your preferred testing strategy, develop a test table and test the following funciton.  Where required update the function so all test behave as expected.\n",
        "\n",
        "\n",
        "## Function to test"
      ],
      "metadata": {
        "id": "LIfoDVzKX7uK"
      }
    },
    {
      "cell_type": "code",
      "source": [
        "def divide(x, y):\n",
        "    '''Divide first by second number'''\n",
        "    return x / y\n"
      ],
      "metadata": {
        "id": "YH9gDoOYvKwg"
      },
      "execution_count": null,
      "outputs": []
    },
    {
      "cell_type": "markdown",
      "source": [
        "## Test Table\n",
        "\n",
        "List you test cases here.\n",
        "\n",
        "Test Case\tExpected output \tReason\n",
        "divide(50,2) = 25.0\n",
        "\n",
        "Reason --> Basic Division Test with integer\n",
        "\n",
        "\n",
        "divide(10,2) = 5.0\n",
        "\n",
        "Reason --> Basic Division Test with integer\n",
        "\n",
        "\n",
        "divide(10.0,2) = 5.0\n",
        "\n",
        "--> Division test with one integer and one float\n",
        "\n",
        "\n",
        "divide(-10,2) = -5.0\n",
        "\n",
        "--> Division Test with negative dividend\n",
        "\n",
        "\n",
        "divide(15,3) = 5.0\n",
        "\n",
        "--> Basic Division test with integer\n",
        "\n",
        "\n",
        "divide(30,- 3) = 10.0\n",
        "\n",
        "--> Division test with negative divisor\n",
        "\n",
        "\n",
        "divide(0,5) = 0.0\n",
        "\n",
        "--> Division test with zero dividend\n",
        "\n",
        "\n",
        "divide(15,4) = 3.75\n",
        "\n",
        "--> Division test with non-integer result\n",
        "\n",
        "\n",
        "divide(0,0) = ValueError\n",
        "\n",
        "--> Division with zero should raise an exception\n"
      ],
      "metadata": {
        "id": "JYSZ-53nLF6n"
      }
    },
    {
      "cell_type": "code",
      "source": [
        "def divide(x, y):\n",
        "    '''Divide first by second number'''\n",
        "    return x / y\n",
        "\n",
        "# Test cases\n",
        "assert divide(50, 2) == 25.0\n",
        "\n",
        "assert divide(10, 2) == 5.0\n",
        "\n",
        "assert divide(10.0, 2) == 5.0\n",
        "\n",
        "assert divide(-10, 2) == -5.0\n",
        "\n",
        "assert divide(15, 3) == 5.0\n",
        "\n",
        "assert divide(30, -3) == -10.0\n",
        "\n",
        "assert divide(0, 5) == 0.0\n",
        "\n",
        "assert divide(15,4) == 3.75\n",
        "\n",
        "assert divide(0, 0) == ValueError(\"division by zero\")"
      ],
      "metadata": {
        "id": "DMTITEmbLE_Z",
        "outputId": "7f3c1d37-cef8-4b7e-f62c-ad3ec242490a",
        "colab": {
          "base_uri": "https://localhost:8080/",
          "height": 292
        }
      },
      "execution_count": 10,
      "outputs": [
        {
          "output_type": "error",
          "ename": "ZeroDivisionError",
          "evalue": "division by zero",
          "traceback": [
            "\u001b[0;31m---------------------------------------------------------------------------\u001b[0m",
            "\u001b[0;31mZeroDivisionError\u001b[0m                         Traceback (most recent call last)",
            "\u001b[0;32m<ipython-input-10-007fc7f925d4>\u001b[0m in \u001b[0;36m<cell line: 22>\u001b[0;34m()\u001b[0m\n\u001b[1;32m     20\u001b[0m \u001b[0;32massert\u001b[0m \u001b[0mdivide\u001b[0m\u001b[0;34m(\u001b[0m\u001b[0;36m15\u001b[0m\u001b[0;34m,\u001b[0m\u001b[0;36m4\u001b[0m\u001b[0;34m)\u001b[0m \u001b[0;34m==\u001b[0m \u001b[0;36m3.75\u001b[0m\u001b[0;34m\u001b[0m\u001b[0;34m\u001b[0m\u001b[0m\n\u001b[1;32m     21\u001b[0m \u001b[0;34m\u001b[0m\u001b[0m\n\u001b[0;32m---> 22\u001b[0;31m \u001b[0;32massert\u001b[0m \u001b[0mdivide\u001b[0m\u001b[0;34m(\u001b[0m\u001b[0;36m0\u001b[0m\u001b[0;34m,\u001b[0m \u001b[0;36m0\u001b[0m\u001b[0;34m)\u001b[0m \u001b[0;34m==\u001b[0m \u001b[0mValueError\u001b[0m\u001b[0;34m(\u001b[0m\u001b[0;34m\"division by zero\"\u001b[0m\u001b[0;34m)\u001b[0m\u001b[0;34m\u001b[0m\u001b[0;34m\u001b[0m\u001b[0m\n\u001b[0m",
            "\u001b[0;32m<ipython-input-10-007fc7f925d4>\u001b[0m in \u001b[0;36mdivide\u001b[0;34m(x, y)\u001b[0m\n\u001b[1;32m      1\u001b[0m \u001b[0;32mdef\u001b[0m \u001b[0mdivide\u001b[0m\u001b[0;34m(\u001b[0m\u001b[0mx\u001b[0m\u001b[0;34m,\u001b[0m \u001b[0my\u001b[0m\u001b[0;34m)\u001b[0m\u001b[0;34m:\u001b[0m\u001b[0;34m\u001b[0m\u001b[0;34m\u001b[0m\u001b[0m\n\u001b[1;32m      2\u001b[0m     \u001b[0;34m'''Divide first by second number'''\u001b[0m\u001b[0;34m\u001b[0m\u001b[0;34m\u001b[0m\u001b[0m\n\u001b[0;32m----> 3\u001b[0;31m     \u001b[0;32mreturn\u001b[0m \u001b[0mx\u001b[0m \u001b[0;34m/\u001b[0m \u001b[0my\u001b[0m\u001b[0;34m\u001b[0m\u001b[0;34m\u001b[0m\u001b[0m\n\u001b[0m\u001b[1;32m      4\u001b[0m \u001b[0;34m\u001b[0m\u001b[0m\n\u001b[1;32m      5\u001b[0m \u001b[0;31m# Test cases\u001b[0m\u001b[0;34m\u001b[0m\u001b[0;34m\u001b[0m\u001b[0m\n",
            "\u001b[0;31mZeroDivisionError\u001b[0m: division by zero"
          ]
        }
      ]
    },
    {
      "cell_type": "code",
      "source": [
        "def divide(x, y):\n",
        "    '''Divide first by second number\n",
        "\n",
        "    >>> divide(50, 2)\n",
        "    25.0\n",
        "    >>> divide(10, 2)\n",
        "    5.0\n",
        "    >>> divide(10.0, 2)\n",
        "    5.0\n",
        "    >>> divide(-10, 2)\n",
        "    -5.0\n",
        "    >>> divide(15, 3)\n",
        "    5.0\n",
        "    >>> divide(30, -3)\n",
        "    -10.0\n",
        "    >>> divide(0, 5)\n",
        "    0.0\n",
        "    >>> divide(15, 4)\n",
        "    3.75\n",
        "    >>> divide(0, 0)\n",
        "        Traceback (most recent call last):\n",
        "        ...\n",
        "    ZeroDivisionError: division by zero\n",
        "    '''\n",
        "\n",
        "    return x / y\n",
        "\n",
        "import doctest\n",
        "doctest.testmod()\n"
      ],
      "metadata": {
        "id": "gfSllbp1CUf_",
        "outputId": "0569376b-3320-4269-f3b0-a2c559990ad9",
        "colab": {
          "base_uri": "https://localhost:8080/"
        }
      },
      "execution_count": 24,
      "outputs": [
        {
          "output_type": "stream",
          "name": "stdout",
          "text": [
            "**********************************************************************\n",
            "File \"__main__\", line 20, in __main__.divide\n",
            "Failed example:\n",
            "    divide(0, 0)\n",
            "Exception raised:\n",
            "    Traceback (most recent call last):\n",
            "      File \"/usr/lib/python3.10/doctest.py\", line 1350, in __run\n",
            "        exec(compile(example.source, filename, \"single\",\n",
            "      File \"<doctest __main__.divide[8]>\", line 1, in <module>\n",
            "        divide(0, 0)\n",
            "      File \"<ipython-input-24-b00c731359ec>\", line 26, in divide\n",
            "        return x / y\n",
            "    ZeroDivisionError: division by zero\n",
            "**********************************************************************\n",
            "1 items had failures:\n",
            "   1 of   9 in __main__.divide\n",
            "***Test Failed*** 1 failures.\n"
          ]
        },
        {
          "output_type": "execute_result",
          "data": {
            "text/plain": [
              "TestResults(failed=1, attempted=9)"
            ]
          },
          "metadata": {},
          "execution_count": 24
        }
      ]
    }
  ]
}