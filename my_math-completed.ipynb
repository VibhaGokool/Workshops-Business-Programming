{
  "nbformat": 4,
  "nbformat_minor": 0,
  "metadata": {
    "colab": {
      "name": "my_math.ipynb",
      "provenance": [],
      "include_colab_link": true
    },
    "kernelspec": {
      "name": "python3",
      "display_name": "Python 3"
    },
    "language_info": {
      "name": "python"
    }
  },
  "cells": [
    {
      "cell_type": "markdown",
      "metadata": {
        "id": "view-in-github",
        "colab_type": "text"
      },
      "source": [
        "<a href=\"https://colab.research.google.com/github/VibhaGokool/Business-Programming---Vibha-Gokool/blob/main/my_math.ipynb\" target=\"_parent\"><img src=\"https://colab.research.google.com/assets/colab-badge.svg\" alt=\"Open In Colab\"/></a>"
      ]
    },
    {
      "cell_type": "markdown",
      "source": [
        "Any Python file you create is a module that you can import. Here is a simple module that has some basic arithmetic functions in it.\n",
        "\n",
        "This code is very naive. You have no error handling at all, for example. What that means is that you could divide by zero and cause an exception to be thrown. You could also pass incompatible types to these functions, like a string and an integer -- that would cause a different kind of exception to be raised.\n",
        "\n",
        "However, for learning purposes, this code is adequate."
      ],
      "metadata": {
        "id": "--JrhOOldrwN"
      }
    },
    {
      "cell_type": "code",
      "execution_count": 8,
      "metadata": {
        "id": "MUOoi228c_DS",
        "outputId": "0255faf0-02d9-4705-abf6-c32019ffe6fd",
        "colab": {
          "base_uri": "https://localhost:8080/"
        }
      },
      "outputs": [
        {
          "output_type": "stream",
          "name": "stdout",
          "text": [
            "Enter the first number:10\n",
            "Enter the second number:15\n",
            "The sum of the 2 numbers is 25.0\n",
            "The ratio of the 2 numbers gives 0.6666666666666666\n",
            "The product of the 2 numbers is 150.0\n",
            "The first number subtracted by the second number gives -5.0\n"
          ]
        }
      ],
      "source": [
        "def add(x, y):\n",
        "    '''Add two numbers'''\n",
        "    return x + y\n",
        "\n",
        "  #user input\n",
        "\n",
        "x = input(\"Enter the first number:\" )\n",
        "\n",
        "y  = input(\"Enter the second number:\" )\n",
        "\n",
        "\n",
        "x = float(x)\n",
        "y = float(y)\n",
        "\n",
        "total = x + y\n",
        "\n",
        "print(\"The sum of the 2 numbers is\" , total)\n",
        "\n",
        "\n",
        "\n",
        "\n",
        "def divide(x, y):\n",
        "    '''Divide first by second number'''\n",
        "    return x / y\n",
        "\n",
        "\n",
        "x = float(x)\n",
        "y = float(y)\n",
        "\n",
        "ratio = x / y\n",
        "\n",
        "print(\"The ratio of the 2 numbers gives\" , ratio)\n",
        "\n",
        "\n",
        "\n",
        "def multiply(x, y):\n",
        "    '''Multiple two numbers'''\n",
        "    return x * y\n",
        "\n",
        "product = x * y\n",
        "\n",
        "print(\"The product of the 2 numbers is\" , product)\n",
        "\n",
        "\n",
        "\n",
        "def subtract(x, y):\n",
        "    '''Subtract two numbers'''\n",
        "    return x - y\n",
        "\n",
        "subtraction = x - y\n",
        "print(\"The first number subtracted by the second number gives\" , subtraction )"
      ]
    }
  ]
}