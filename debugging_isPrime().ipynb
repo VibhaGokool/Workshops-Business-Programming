{
  "nbformat": 4,
  "nbformat_minor": 0,
  "metadata": {
    "colab": {
      "name": "debugging_isPrime().ipynb",
      "provenance": [],
      "include_colab_link": true
    },
    "kernelspec": {
      "name": "python3",
      "display_name": "Python 3"
    },
    "language_info": {
      "name": "python"
    }
  },
  "cells": [
    {
      "cell_type": "markdown",
      "metadata": {
        "id": "view-in-github",
        "colab_type": "text"
      },
      "source": [
        "<a href=\"https://colab.research.google.com/github/VibhaGokool/Business-Programming---Vibha-Gokool/blob/main/debugging_isPrime().ipynb\" target=\"_parent\"><img src=\"https://colab.research.google.com/assets/colab-badge.svg\" alt=\"Open In Colab\"/></a>"
      ]
    },
    {
      "cell_type": "markdown",
      "source": [
        "## Debug isPrime()\n",
        "What is your preferred method? Do you like using print() or prefer *pdb*?   Since mistakes in programs will happen, the important part is that you have a debugging strategy, not which tool you use.\n",
        "\n",
        "Here is a function that needs debugging. Using either print() or *pdb*, debug the following function."
      ],
      "metadata": {
        "id": "LIfoDVzKX7uK"
      }
    },
    {
      "cell_type": "code",
      "source": [
        "def isPrime(candidate):\n",
        "    if candidate <= 1:\n",
        "        return False\n",
        "\n",
        "\n",
        "    lower = candidate - 1\n",
        "    breakpoint()\n",
        "\n",
        "\n",
        "    while lower > 1:\n",
        "        if candidate / lower == candidate // lower:\n",
        "            return False\n",
        "        lower -= 1\n",
        "\n",
        "    return True\n",
        "\n",
        "print(isPrime(10))"
      ],
      "metadata": {
        "id": "YH9gDoOYvKwg",
        "outputId": "1a8902df-9d02-485d-e525-588caa280ffe",
        "colab": {
          "base_uri": "https://localhost:8080/"
        }
      },
      "execution_count": 10,
      "outputs": [
        {
          "output_type": "stream",
          "name": "stdout",
          "text": [
            "> \u001b[0;32m<ipython-input-10-e140fd4a820d>\u001b[0m(10)\u001b[0;36misPrime\u001b[0;34m()\u001b[0m\n",
            "\u001b[0;32m      8 \u001b[0;31m\u001b[0;34m\u001b[0m\u001b[0m\n",
            "\u001b[0m\u001b[0;32m      9 \u001b[0;31m\u001b[0;34m\u001b[0m\u001b[0m\n",
            "\u001b[0m\u001b[0;32m---> 10 \u001b[0;31m    \u001b[0;32mwhile\u001b[0m \u001b[0mlower\u001b[0m \u001b[0;34m>\u001b[0m \u001b[0;36m1\u001b[0m\u001b[0;34m:\u001b[0m\u001b[0;34m\u001b[0m\u001b[0;34m\u001b[0m\u001b[0m\n",
            "\u001b[0m\u001b[0;32m     11 \u001b[0;31m        \u001b[0;32mif\u001b[0m \u001b[0mcandidate\u001b[0m \u001b[0;34m/\u001b[0m \u001b[0mlower\u001b[0m \u001b[0;34m==\u001b[0m \u001b[0mcandidate\u001b[0m \u001b[0;34m//\u001b[0m \u001b[0mlower\u001b[0m\u001b[0;34m:\u001b[0m\u001b[0;34m\u001b[0m\u001b[0;34m\u001b[0m\u001b[0m\n",
            "\u001b[0m\u001b[0;32m     12 \u001b[0;31m            \u001b[0;32mreturn\u001b[0m \u001b[0;32mFalse\u001b[0m\u001b[0;34m\u001b[0m\u001b[0;34m\u001b[0m\u001b[0m\n",
            "\u001b[0m\n",
            "ipdb> p isPrime(1)\n",
            "False\n",
            "ipdb> isPrime(5)\n",
            "True\n",
            "ipdb> p isPrime(10)\n",
            "False\n",
            "ipdb> p isPrime(13)\n",
            "True\n",
            "ipdb> type(isPrime(5))\n",
            "<class 'bool'>\n",
            "ipdb> c\n",
            "False\n"
          ]
        }
      ]
    }
  ]
}