{
 "cells": [
  {
   "cell_type": "markdown",
   "id": "aa4c91e5",
   "metadata": {
    "colab_type": "text",
    "id": "view-in-github"
   },
   "source": [
    "<a href=\"https://colab.research.google.com/github/VibhaGokool/Business-Programming---Vibha-Gokool/blob/main/business_buzzword_generator.ipynb\" target=\"_parent\"><img src=\"https://colab.research.google.com/assets/colab-badge.svg\" alt=\"Open In Colab\"/></a>"
   ]
  },
  {
   "cell_type": "markdown",
   "id": "f8b21259-c1a0-4ecb-a02f-e35565841067",
   "metadata": {
    "id": "f8b21259-c1a0-4ecb-a02f-e35565841067"
   },
   "source": [
    "# Business Buzzword Generator\n",
    "\n",
    "Lets write a real-world business-like application using Python!\n",
    "\n",
    "Want to write a program to generate business phrases.  These could be used as\n",
    "title for presentation, podcast, video, article or just for fun.\n",
    "\n",
    "## Task 0 - Import to GitHub\n",
    "\n",
    "In a browser:\n",
    "* Login to Google\n",
    "* Login to GitHub\n",
    "* Import notebook into Colab\n",
    "* Save to GitHub. Don't forget the commit message.\n",
    "* Complete the tasks saving regularly to GitHub\n",
    "\n",
    "## Task 1 - Convert to Python!\n",
    "\n",
    "As you go through the task, keep in mind our 5-step development process:\n",
    "* State the Problem Clearly\n",
    "* Describe the input and Output\n",
    "* Work a simple example by hand\n",
    "* Develop an algorithm (and convert to Python)\n",
    "* Test solution with a variety of data\n",
    "\n",
    "For this notebook, steps 1-4 have been completed and you only need to convert\n",
    "the supplied pseudocode into Python.\n",
    "\n",
    "The program uses three lists of words. Randomly picks one word from each list\n",
    "and combines the words into a phrase.  Then print out the phrase. Here is\n",
    "the pseudocode:\n",
    "\n",
    "    importing the random module\n",
    "    make three lists, one of buzzword, one of actions, and one of outcomes\n",
    "    randomly choose one buzzword, action, and outcome from each list\n",
    "    now build the phrase by \"adding\" the words together\n",
    "    output the phrase\n",
    "\n",
    "\n",
    "A good way to use pseudocode is make each line(s) a comment(s) in the code.\n",
    "\n",
    "Each line of pseudo code has been pasted into a cell below.  \n",
    "\n",
    "Try to implement each as python statement or statements."
   ]
  },
  {
   "cell_type": "code",
   "execution_count": 6,
   "id": "6b9a2fc6-f8ae-4778-a5e7-9659136091fd",
   "metadata": {
    "colab": {
     "base_uri": "https://localhost:8080/"
    },
    "id": "6b9a2fc6-f8ae-4778-a5e7-9659136091fd",
    "outputId": "002f4da7-ab41-4fff-ca75-d496372aad5d"
   },
   "outputs": [
    {
     "name": "stdout",
     "output_type": "stream",
     "text": [
      "Sustainability promotes productivity\n"
     ]
    }
   ],
   "source": [
    "# importing the random module\n",
    "import random\n",
    "\n",
    "#  make three lists, one of buzzwords, one of actions, and one of outcomes\n",
    "\n",
    "buzzwords = ['Sustainability' , ' Agility' , 'Innovation']\n",
    "\n",
    "actions = ['promotes' , 'optimizes' , 'grows']\n",
    "\n",
    "outcomes = ['growth' , 'productivity' , 'efficiency']\n",
    "\n",
    "chosen_buzzword = random.choice (buzzwords)\n",
    "chosen_action = random.choice(actions)\n",
    "chosen_outcome = random.choice(outcomes)\n",
    "\n",
    "\n",
    "phrase = chosen_buzzword + \" \" + chosen_action + \" \" + chosen_outcome\n",
    "\n",
    "print(phrase)\n",
    "\n",
    "\n",
    "\n",
    "\n",
    "\n",
    "\n",
    "\n",
    "\n"
   ]
  },
  {
   "cell_type": "code",
   "execution_count": null,
   "id": "52db4e24-c2e3-46f2-8a96-0fece1f437f2",
   "metadata": {
    "id": "52db4e24-c2e3-46f2-8a96-0fece1f437f2"
   },
   "outputs": [],
   "source": [
    "#  make three lists, one of buzzwords, one of actions, and one of outcomes"
   ]
  },
  {
   "cell_type": "code",
   "execution_count": null,
   "id": "2538b8fa-1dc9-4bfd-84d8-6753b9a88218",
   "metadata": {
    "id": "2538b8fa-1dc9-4bfd-84d8-6753b9a88218"
   },
   "outputs": [],
   "source": [
    "# randomly choose one buzzword, action, and outcome from each list"
   ]
  },
  {
   "cell_type": "code",
   "execution_count": null,
   "id": "95c40fea-40d0-49e6-afe5-c181da731368",
   "metadata": {
    "id": "95c40fea-40d0-49e6-afe5-c181da731368"
   },
   "outputs": [],
   "source": [
    "# build the phrase by \"adding\" the words together"
   ]
  },
  {
   "cell_type": "code",
   "execution_count": null,
   "id": "3e36c71d-ef4b-40d5-ac7f-a7717460e28f",
   "metadata": {
    "id": "3e36c71d-ef4b-40d5-ac7f-a7717460e28f"
   },
   "outputs": [],
   "source": [
    "# output the phrase"
   ]
  },
  {
   "cell_type": "markdown",
   "id": "5c5d439f",
   "metadata": {
    "id": "5c5d439f"
   },
   "source": [
    "## Task 2 (Optional) - Phrase Generator\n",
    "\n",
    "This task is optional.  For this task, lets think about way we could extend\n",
    "the program.  Here are some question to think about.  No Python code is needed.\n",
    "Thinking is probably enough, but if you want you can write a couple of\n",
    "sentences on what you think is required.\n",
    "* Can it be modified to generate other types of phrases? How about three lists of ingredients, and generate simple recipes? How about and idea or project generator?\n",
    "* Why limit it to three words?  \n",
    "* Does the order of the words matter?\n",
    "* Could we create sentences? If we create sentences, could we combine them to create paragraphs? Could we specify a topic, and have the program write an essay? Would this make it 'smart'?\n"
   ]
  },
  {
   "cell_type": "code",
   "execution_count": 43,
   "id": "WijlFd90g4Es",
   "metadata": {
    "colab": {
     "base_uri": "https://localhost:8080/"
    },
    "id": "WijlFd90g4Es",
    "outputId": "d3e00128-3b1d-41b5-b720-55947891a81d"
   },
   "outputs": [
    {
     "name": "stdout",
     "output_type": "stream",
     "text": [
      "The ingredient milk requires \n",
      "Enter the quantity in grams (g)/(ml) of milk:100\n",
      "The ingredient butter requires \n",
      "Enter the quantity in grams (g)/(ml) of butter:75\n",
      "The ingredient honey requires \n",
      "Enter the quantity in grams (g)/(ml) of honey:50\n",
      "The recipe needs :   100g/ml of milk, 75g/ml of butter, 50g/ml of honey, \n"
     ]
    }
   ],
   "source": [
    "#generating recipes\n",
    "\n",
    "ingredient_list = ['milk', 'flour' , 'sugar' , 'honey' , 'chocolate' , 'butter' , 'maple syrup']\n",
    "\n",
    "chosen_ingredient = random.sample(ingredient_list, 3)\n",
    "\n",
    "recipe = \"\"\n",
    "\n",
    "\n",
    "for ingredient in chosen_ingredient:\n",
    "\n",
    "  print (\"The ingredient \" + ingredient + \" requires \")\n",
    "\n",
    "  quantity = input(\"Enter the quantity in grams (g)/(ml) of \" + ingredient + \":\" )\n",
    "\n",
    "  recipe += quantity + \"g/ml of \" + ingredient +\", \"\n",
    "\n",
    "\n",
    "print(\"The recipe needs :  \" , recipe)\n",
    "\n",
    "\n"
   ]
  }
 ],
 "metadata": {
  "colab": {
   "include_colab_link": true,
   "provenance": []
  },
  "kernelspec": {
   "display_name": "Python 3 (ipykernel)",
   "language": "python",
   "name": "python3"
  },
  "language_info": {
   "codemirror_mode": {
    "name": "ipython",
    "version": 3
   },
   "file_extension": ".py",
   "mimetype": "text/x-python",
   "name": "python",
   "nbconvert_exporter": "python",
   "pygments_lexer": "ipython3",
   "version": "3.12.2"
  }
 },
 "nbformat": 4,
 "nbformat_minor": 5
}
