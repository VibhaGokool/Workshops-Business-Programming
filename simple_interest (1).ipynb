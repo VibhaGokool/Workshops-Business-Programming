{
 "cells": [
  {
   "cell_type": "markdown",
   "id": "b7a42e71-7361-4878-a06f-0fc857db581f",
   "metadata": {
    "id": "b7a42e71-7361-4878-a06f-0fc857db581f"
   },
   "source": [
    "# Simple Interest Calculator\n",
    "\n",
    "The process of problem solving we will use can be broken down into 5 key steps:\n",
    "1. State the problem clearly\n",
    "2. Describe the input and output information\n",
    "3. Work the problem by hand\n",
    "4. Develop an algorithm (and convert to python) \n",
    "5. Test solution with a variety of data\n",
    "\n",
    "\n",
    "### 1. State Problem Clearly\n",
    "\n",
    "Simple interest in a bank is given by the formula:\n",
    "\n",
    "    Simple Interest = (Ammount Borrowed  x  Interest Rate * years) / 100\n",
    "    \n",
    "\n",
    "### 2. Describe Inputs/Outputs\n",
    "\n",
    "\n",
    "| input | processing | output|\n",
    "|-------|------------|-------|\n",
    "| Amount Borowed |    | Simple Interest |\n",
    "| Interest Rate | | |\n",
    "| Loan Period | | | \n",
    "\n",
    "### 3. Work the problme by hand\n",
    "\n",
    "Borrowed $10,000\n",
    "Interest Rate of 2%\n",
    "Lenghtof loan is 5 years\n",
    "\n",
    "\n",
    "Simple interest \n",
    "=  (10,000 * 2 * 5) / 100\n",
    "= 1,000\n",
    "\n",
    "### 4. Develop and algorithm\n",
    "\n",
    "Here is the pseudocode\n",
    "\n",
    "        Get the amount borrowed\n",
    "        Get the interest rate\n",
    "        Get the loan period\n",
    "        let simple interest = (ammount borrowed * interest rate * loan period) / 100\n",
    "        print The total interest on the loan is: simple interest\n"
   ]
  },
  {
   "cell_type": "code",
   "execution_count": 2,
   "id": "95895168-d7b9-45c8-8975-c0ba77872cca",
   "metadata": {},
   "outputs": [
    {
     "name": "stdout",
     "output_type": "stream",
     "text": [
      "The total interest on the loan is: 10000.0\n"
     ]
    }
   ],
   "source": [
    "amount_borrowed = 50000\n",
    "interest_rate = 4\n",
    "loan_period = 5\n",
    "\n",
    "\n",
    "simple_interest = (amount_borrowed * interest_rate * loan_period) / 100\n",
    "\n",
    "simple_interest = str(simple_interest)\n",
    "\n",
    "\n",
    "print (\"The total interest on the loan is: \"  +  simple_interest)"
   ]
  },
  {
   "cell_type": "code",
   "execution_count": null,
   "id": "f9a6e70b-c83a-4513-90d7-3cbcfbf9cde7",
   "metadata": {
    "id": "f9a6e70b-c83a-4513-90d7-3cbcfbf9cde7"
   },
   "outputs": [],
   "source": [
    "# Get the amount borrowed\n",
    "                             \n",
    "# Get the interest rate\n",
    "\n",
    "# Get the loan period\n",
    "                        \n",
    "# let simple interest = (ammount borrowed * interest rate * loan period)\n",
    "\n",
    "# print The total interest on the loan is: simple interest\n"
   ]
  },
  {
   "cell_type": "markdown",
   "id": "26e44634-3041-4ffb-acd9-fa11eb36f2df",
   "metadata": {
    "id": "26e44634-3041-4ffb-acd9-fa11eb36f2df"
   },
   "source": [
    "### 5. Test with a variety of data.\n",
    "\n",
    "We could modify the above cell with new data and then run the code.  But rather than type in different values each time, perhaps it easier to be prompted for the infromation.  \n",
    "\n",
    "Write a version that uses the input() function to prompt the user for the required data."
   ]
  },
  {
   "cell_type": "code",
   "execution_count": 21,
   "id": "4299ad3d-5672-42fa-bf17-fbf7360e66c5",
   "metadata": {
    "id": "4299ad3d-5672-42fa-bf17-fbf7360e66c5"
   },
   "outputs": [
    {
     "name": "stdin",
     "output_type": "stream",
     "text": [
      "Enter the amount borrowed =  50000\n",
      "Enter the interest rate =  4\n",
      "Enter the loan period =  5\n"
     ]
    },
    {
     "name": "stdout",
     "output_type": "stream",
     "text": [
      "The total interest on the loan is: 10000.0\n"
     ]
    }
   ],
   "source": [
    "def simple_interest(amount_borrowed, interest_rate, loan_period):\n",
    "    \n",
    "    simple_interest = (amount_borrowed * interest_rate * loan_period) / 100\n",
    "    return simple_interest\n",
    "\n",
    "\n",
    "amount_borrowed = float(input(\"Enter the amount borrowed = \"))\n",
    "interest_rate = float(input(\"Enter the interest rate = \"))\n",
    "loan_period = int(input(\"Enter the loan period = \"))\n",
    "\n",
    "\n",
    "result = simple_interest(amount_borrowed, interest_rate, loan_period)\n",
    "\n",
    "\n",
    "print(\"The total interest on the loan is:\", result)\n",
    "\n"
   ]
  }
 ],
 "metadata": {
  "colab": {
   "name": "simple_interest.ipynb",
   "provenance": []
  },
  "kernelspec": {
   "display_name": "Python 3 (ipykernel)",
   "language": "python",
   "name": "python3"
  },
  "language_info": {
   "codemirror_mode": {
    "name": "ipython",
    "version": 3
   },
   "file_extension": ".py",
   "mimetype": "text/x-python",
   "name": "python",
   "nbconvert_exporter": "python",
   "pygments_lexer": "ipython3",
   "version": "3.12.2"
  }
 },
 "nbformat": 4,
 "nbformat_minor": 5
}
