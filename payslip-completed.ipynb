{
  "cells": [
    {
      "cell_type": "markdown",
      "metadata": {
        "id": "view-in-github",
        "colab_type": "text"
      },
      "source": [
        "<a href=\"https://colab.research.google.com/github/VibhaGokool/Business-Programming---Vibha-Gokool/blob/main/payslip.ipynb\" target=\"_parent\"><img src=\"https://colab.research.google.com/assets/colab-badge.svg\" alt=\"Open In Colab\"/></a>"
      ]
    },
    {
      "cell_type": "markdown",
      "metadata": {
        "id": "kF8ldRydTDPx"
      },
      "source": [
        "# Payslip\n",
        "\n",
        "A payslip is a document that shows their total wages earned for a set period.\n",
        "This might be from a salary, hourly wages or commission. Payslips are also know as\n",
        "‘pay advice’.  Traditionally the payslip was a paper document attached. Today\n",
        "most organisations provide them electronically.\n",
        "\n",
        "## Task 0 - Import into GitHub\n",
        "First, import the notebook into Colab and save an initial copy to GitHub.\n",
        "\n",
        "## Task 1 - Start Simple\n",
        "\n",
        "Writing complete robust programs can take time.  Often the more we understand a\n",
        "problem the easier it is to implement the solution.   One approach is to\n",
        "implement the simplest version of a program and then slowly add functionality.\n",
        "\n",
        "The aim of this notebook is to start simple and slowly build up the program.\n",
        "The approach we take below is one way to understand a problem, step 1 of our\n",
        "development process. For complex projects, they often follow a similar idea\n",
        "where they implement a minimal program, and each week or month have intense\n",
        "periods were the team adds functionality.  These advanced methodologies are\n",
        "beyond the scope of an introductory programming course but start small and\n",
        "slowly add functionality we do capture the essence of the process.\n",
        "\n",
        "\n",
        "### The Initial (minimal) Program\n",
        "\n",
        "Consider 'Ram' who has a salary of \\$25000.  They have sold goods worth $20000\n",
        "and earns 2% commission on the sales. They fall into the 10% tax bracket. We\n",
        "will talk about tax-brackets in another notebook. Before making payments the\n",
        "organisation needs to deduct 10% tax.\n",
        "\n",
        "We need to program to print out a payslip for sales people.  Our payslip\n",
        "is very simple, we need a title, the amount of salary, the amount of commission,\n",
        "the amount of tax, and the total pay.\n",
        "\n",
        "Run the following program for one person."
      ]
    },
    {
      "cell_type": "code",
      "execution_count": null,
      "metadata": {
        "colab": {
          "base_uri": "https://localhost:8080/"
        },
        "id": "2UenEHfcTuLz",
        "outputId": "7e9ec9ab-f5d9-4b0b-f5e5-bfa5d2a605ce"
      },
      "outputs": [
        {
          "name": "stdout",
          "output_type": "stream",
          "text": [
            "Payslip of Ram\n",
            "Salary 25000 Commission 400.0 Tax 2540.0\n",
            "Total pay 22860.0\n"
          ]
        }
      ],
      "source": [
        "salary = 25000\n",
        "sales = 20000\n",
        "commission = 0.02 * sales\n",
        "tax = (salary + commission) * 0.10\n",
        "pay = salary + commission - tax\n",
        "print('Payslip of Ram')\n",
        "print('Salary', salary,'Commission',commission,'Tax', tax)\n",
        "print('Total pay',pay)"
      ]
    },
    {
      "cell_type": "markdown",
      "metadata": {
        "id": "QzcJGzRBUDz2"
      },
      "source": [
        "Now, consider 'Radha' who has a salary of \\$30000.  They have sold goods worth $40000 and earns 2.5% commision on the sales. They fall into the 10% tax bracket and so before making payments we need to deduct 10% form his total payout."
      ]
    },
    {
      "cell_type": "code",
      "execution_count": 2,
      "metadata": {
        "id": "wFmuD9ujUgDW",
        "colab": {
          "base_uri": "https://localhost:8080/"
        },
        "outputId": "bc56bed7-ea0c-4adb-a954-72f9fdeaffd8"
      },
      "outputs": [
        {
          "output_type": "stream",
          "name": "stdout",
          "text": [
            "Payslip of Radha\n",
            "Salary 30000 Commission 1000.0 Tax 3100.0\n",
            "Total pay 27900.0\n"
          ]
        }
      ],
      "source": [
        "salary = 30000\n",
        "sales = 40000\n",
        "commission = 0.025 * sales\n",
        "tax = (salary + commission)* 0.10\n",
        "\n",
        "pay = salary + commission - tax\n",
        "\n",
        "print('Payslip of Radha')\n",
        "print('Salary', salary,'Commission',commission,'Tax', tax)\n",
        "print('Total pay',pay)\n",
        "\n",
        "\n"
      ]
    },
    {
      "cell_type": "markdown",
      "metadata": {
        "id": "UFGObxq7UlvE"
      },
      "source": [
        "## Task 2 - Generalise\n",
        "\n",
        "What did we change from Ram to Radha?"
      ]
    },
    {
      "cell_type": "code",
      "execution_count": null,
      "metadata": {
        "id": "zMEi9q1dUr36"
      },
      "outputs": [],
      "source": [
        "# changed the salary from $25000 to $30000\n",
        "# changed the sales from $20000 to $40000\n",
        "# changed the commission rate from 2% to 2.5%.\n",
        "# Recalculated the tax based on Radha's sales and commission\n",
        "# changed the print statements"
      ]
    },
    {
      "cell_type": "markdown",
      "metadata": {
        "id": "7PrlmDmYV6iX"
      },
      "source": [
        "Make what we changed as inputs (parameters) to a function"
      ]
    },
    {
      "cell_type": "code",
      "execution_count": 13,
      "metadata": {
        "id": "cJwgf8nZWDF6",
        "colab": {
          "base_uri": "https://localhost:8080/"
        },
        "outputId": "a05a0dbd-c47e-4f51-ba1f-02cfc8b214cd"
      },
      "outputs": [
        {
          "output_type": "stream",
          "name": "stdout",
          "text": [
            "Enter the salary figure of  Ram = 25000\n",
            "Enter the sales figure made by Ram = 20000\n",
            "Enter the commission on sales for Ram = 0.02\n",
            "Enter the tax on Ram payout =  0.10\n",
            "Payslip of  Ram\n",
            "Salary 25000 Commission 400.0 Tax 2540.0\n",
            "Total pay 22860.0\n",
            "Enter the salary figure of  Radha = 30000\n",
            "Enter the sales figure made by Radha = 40000\n",
            "Enter the commission on sales for Radha = 0.025\n",
            "Enter the tax on Radha payout =  0.10\n",
            "Payslip of  Radha\n",
            "Salary 30000 Commission 1000.0 Tax 3100.0\n",
            "Total pay 27900.0\n"
          ]
        }
      ],
      "source": [
        "def payslip(salary , sales , commission , tax):\n",
        "\n",
        "  tax = (salary + commission)* tax\n",
        "\n",
        "  pay = salary + commission - tax\n",
        "  return payslip\n",
        "\n",
        "# user input\n",
        "salesperson = [\"Ram\" , \"Radha\"]\n",
        "\n",
        "for x in salesperson:\n",
        "  salary = input(\"Enter the salary figure of  \" + x + \" = \")\n",
        "  sales = input(\"Enter the sales figure made by \" + x + \" = \")\n",
        "  commission = input(\"Enter the commission on sales for \" + x + \" = \")\n",
        "  tax = input(\"Enter the tax on \" + x + \" payout =  \")\n",
        "\n",
        "\n",
        "  salary = int(salary)\n",
        "  sales = int(sales)\n",
        "  commission = float(commission)\n",
        "  tax = float(tax)\n",
        "\n",
        "\n",
        "  calculated_commission = commission * sales\n",
        "  calculated_tax = (salary + calculated_commission)* tax\n",
        "  pay = salary + calculated_commission - calculated_tax\n",
        "\n",
        "  payslip = (salary , sales , commission , tax)\n",
        "\n",
        "  print('Payslip of ' , x)\n",
        "  print('Salary', salary,'Commission',calculated_commission,'Tax', calculated_tax)\n",
        "  print('Total pay',pay)\n",
        "\n",
        "\n",
        "\n"
      ]
    }
  ],
  "metadata": {
    "colab": {
      "provenance": [],
      "include_colab_link": true
    },
    "kernelspec": {
      "display_name": "Python 3",
      "name": "python3"
    },
    "language_info": {
      "name": "python"
    }
  },
  "nbformat": 4,
  "nbformat_minor": 0
}