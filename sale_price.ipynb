{
 "cells": [
  {
   "cell_type": "markdown",
   "metadata": {
    "colab_type": "text",
    "id": "view-in-github"
   },
   "source": [
    "<a href=\"https://colab.research.google.com/github/VibhaGokool/Business-Programming---Vibha-Gokool/blob/main/sale_price.ipynb\" target=\"_parent\"><img src=\"https://colab.research.google.com/assets/colab-badge.svg\" alt=\"Open In Colab\"/></a>"
   ]
  },
  {
   "cell_type": "markdown",
   "metadata": {
    "id": "cgTeiXOtSPjH"
   },
   "source": [
    "# Sales Price\n",
    "\n",
    "A local department store needs to develop a program that will computer the total price (including goods and services tax) of the item on sale when given an item's original price and discount percentage.\n",
    "\n",
    "## Tasks\n",
    "* Save to Github\n",
    "* Design Algorithm\n",
    "* Write and test the program in Python"
   ]
  },
  {
   "cell_type": "code",
   "execution_count": 16,
   "metadata": {
    "colab": {
     "base_uri": "https://localhost:8080/"
    },
    "id": "VefksA-fhNVd",
    "outputId": "5ce29885-07ef-4926-a036-7bb16c986341"
   },
   "outputs": [
    {
     "name": "stdout",
     "output_type": "stream",
     "text": [
      "Enter the original_price = 5000\n",
      "Enter the discount_percentage = 5\n",
      "Enter the service_tax_rate = 15\n",
      "5462.5\n"
     ]
    }
   ],
   "source": [
    "def calculate_total_price (original_price, discount_percentage, service_tax_rate):\n",
    "    discount_amount = original_price * discount_percentage/100\n",
    "    discounted_price = original_price - discount_amount\n",
    "    service_tax_amount = discounted_price * (service_tax_rate/100)\n",
    "    total_price = discounted_price + service_tax_amount\n",
    "\n",
    "    return (total_price)\n",
    "\n",
    "#User Input\n",
    "\n",
    "original_price =(input(\"Enter the original_price = \"))\n",
    "discount_percentage= (input(\"Enter the discount_percentage = \"))\n",
    "service_tax_rate = (input(\"Enter the service_tax_rate = \"))\n",
    "\n",
    "original_price =float(original_price)\n",
    "discount_percentage= float(discount_percentage)\n",
    "service_tax_rate =float(service_tax_rate)\n",
    "\n",
    "\n",
    "total_price = calculate_total_price(original_price, discount_percentage, service_tax_rate)\n",
    "\n",
    "\n",
    "print (total_price)"
   ]
  },
  {
   "cell_type": "code",
   "execution_count": null,
   "metadata": {
    "id": "pPIN2ZcrSqdw"
   },
   "outputs": [],
   "source": [
    "\n",
    "\n",
    "\n",
    "\n",
    "\n"
   ]
  }
 ],
 "metadata": {
  "colab": {
   "include_colab_link": true,
   "name": "sale_price.ipynb",
   "provenance": [],
   "toc_visible": true
  },
  "kernelspec": {
   "display_name": "Python 3 (ipykernel)",
   "language": "python",
   "name": "python3"
  },
  "language_info": {
   "codemirror_mode": {
    "name": "ipython",
    "version": 3
   },
   "file_extension": ".py",
   "mimetype": "text/x-python",
   "name": "python",
   "nbconvert_exporter": "python",
   "pygments_lexer": "ipython3",
   "version": "3.12.2"
  }
 },
 "nbformat": 4,
 "nbformat_minor": 4
}
